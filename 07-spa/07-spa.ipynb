{
 "cells": [
  {
   "attachments": {},
   "cell_type": "markdown",
   "metadata": {},
   "source": [
    "# 2024-06-07 Whiteboarding scratchpad"
   ]
  },
  {
   "cell_type": "code",
   "execution_count": 17,
   "metadata": {},
   "outputs": [
    {
     "data": {
      "text/plain": [
       "[ 1, 3, 4, 8 ]"
      ]
     },
     "execution_count": 17,
     "metadata": {},
     "output_type": "execute_result"
    }
   ],
   "source": [
    "[4, 3, 8, 1].sort((a, b) => a - b)"
   ]
  },
  {
   "cell_type": "code",
   "execution_count": 18,
   "metadata": {},
   "outputs": [
    {
     "data": {
      "text/plain": [
       "[ 'apple', 'pear', 'a', 'bee' ]"
      ]
     },
     "execution_count": 18,
     "metadata": {},
     "output_type": "execute_result"
    }
   ],
   "source": [
    "['apple','pear', 'a', 'bee'].sort((a, b) => a - b)"
   ]
  },
  {
   "cell_type": "code",
   "execution_count": 16,
   "metadata": {},
   "outputs": [
    {
     "data": {
      "text/plain": [
       "[ 'a', 'c', 'e', 'i', 'm', 'n' ]"
      ]
     },
     "execution_count": 16,
     "metadata": {},
     "output_type": "execute_result"
    }
   ],
   "source": [
    "[...\"iceman\"].sort((a, b) => a - b)"
   ]
  },
  {
   "cell_type": "code",
   "execution_count": 11,
   "metadata": {},
   "outputs": [
    {
     "name": "stdout",
     "output_type": "stream",
     "text": [
      "[ 'i', 'c', 'e', 'm', 'a', 'n' ]\n",
      "[ 'c', 'i', 'n', 'e', 'm', 'a' ]\n",
      "false\n"
     ]
    }
   ],
   "source": [
    "\n",
    "function checkIfAnagram(string1, string2) {\n",
    "  let sortedString1 = [...string1.toLowerCase()]//.sort((a, b) => {return a - b});\n",
    "  let sortedString2 = [...string2.toLowerCase()]//.sort((a, b) => a - b);\n",
    "    console.log(sortedString1);\n",
    "    console.log(sortedString2);\n",
    "  return sortedString1.toString() === sortedString2.toString();\n",
    "}\n",
    "\n",
    "console.log (checkIfAnagram(\"iceman\",\"cinema\")); //true\n",
    "// console.log (checkIfAnagram(\"icem\",\"cinema\")); //false\n",
    "// console.log (checkIfAnagram(\"iceman\",\"nema\")); //false\n",
    "// console.log (checkIfAnagram(\"keep\",\"cinema\")); //false \n",
    "// console.log (checkIfAnagram(\"Here come dots\",\"The Morse Code\")); //true"
   ]
  },
  {
   "cell_type": "code",
   "execution_count": 5,
   "metadata": {},
   "outputs": [
    {
     "name": "stdout",
     "output_type": "stream",
     "text": [
      "true\n"
     ]
    }
   ],
   "source": [
    "\n",
    "function checkIfAnagram(string1, string2) {\n",
    "  const sortedString1 = [...string1.toLowerCase()].sort();\n",
    "  const sortedString2 = [...string2.toLowerCase()].sort();\n",
    "//     console.log(sortedString1);\n",
    "//     console.log(sortedString2);\n",
    "  return sortedString1.toString() === sortedString2.toString();\n",
    "}\n",
    "\n",
    "console.log (checkIfAnagram(\"iceman\",\"cinema\")); //true\n",
    "// console.log (checkIfAnagram(\"icem\",\"cinema\")); //false\n",
    "// console.log (checkIfAnagram(\"iceman\",\"nema\")); //false\n",
    "// console.log (checkIfAnagram(\"keep\",\"cinema\")); //false \n",
    "// console.log (checkIfAnagram(\"Here come dots\",\"The Morse Code\")); //true"
   ]
  },
  {
   "cell_type": "code",
   "execution_count": 3,
   "metadata": {},
   "outputs": [
    {
     "data": {
      "text/plain": [
       "[ 'dlkfjdlj' ]"
      ]
     },
     "execution_count": 3,
     "metadata": {},
     "output_type": "execute_result"
    }
   ],
   "source": [
    "'dlkfjdlj'.split()"
   ]
  },
  {
   "cell_type": "code",
   "execution_count": 1,
   "metadata": {},
   "outputs": [],
   "source": [
    "let list = [20, 20, 10, 20, 30, 10, 40, 50, 20, 30, 10, 10]\n",
    "let listSet = new Set(list)\n",
    "let setArray = [];"
   ]
  },
  {
   "cell_type": "code",
   "execution_count": 2,
   "metadata": {},
   "outputs": [
    {
     "data": {
      "text/plain": [
       "[ 20, 10, 30, 40, 50 ]"
      ]
     },
     "execution_count": 2,
     "metadata": {},
     "output_type": "execute_result"
    }
   ],
   "source": [
    "\n",
    "listSet.forEach(item => setArray.push(item))\n",
    "setArray"
   ]
  },
  {
   "cell_type": "code",
   "execution_count": 10,
   "metadata": {},
   "outputs": [
    {
     "data": {
      "text/plain": [
       "5"
      ]
     },
     "execution_count": 10,
     "metadata": {},
     "output_type": "execute_result"
    }
   ],
   "source": [
    "function countPairs(array) {\n",
    "  let arraySet = new Set(array)\n",
    "  let newArray = [];\n",
    "  arraySet.forEach(item => newArray.push(item));\n",
    "  let pairs = 0;\n",
    "  for (let i=0; i < newArray.length; i++) {\n",
    "    let count = 0;\n",
    "    \n",
    "    for (let j=0; j < array.length; j++) {\n",
    "      if (array[j] === newArray[i]) {\n",
    "        count += 1;\n",
    "      }\n",
    "    }\n",
    "    pairs += Math.floor(count/2);\n",
    "  }\n",
    "  return pairs\n",
    "}\n",
    "\n",
    "countPairs(list)"
   ]
  },
  {
   "cell_type": "markdown",
   "metadata": {},
   "source": [
    "# 2024-06-10 morning challenge\n",
    "Write a function that checks if all items in an array are numbers. Return a boolean.\n",
    "\n",
    "arr = [1, 2, 3, 4]\n",
    "\n"
   ]
  },
  {
   "cell_type": "code",
   "execution_count": 1,
   "metadata": {},
   "outputs": [],
   "source": [
    "\n",
    "const array1 = [1, 2, 3, 4];\n",
    "const array2 = [1, 'x', 3, 4];"
   ]
  },
  {
   "cell_type": "code",
   "execution_count": 3,
   "metadata": {},
   "outputs": [
    {
     "name": "stdout",
     "output_type": "stream",
     "text": [
      "true\n",
      "false\n"
     ]
    }
   ],
   "source": [
    "function checkIfAllBoolean(array) {\n",
    "  const result = array.every(value => typeof value === 'number');\n",
    "  return result\n",
    "}\n",
    "\n",
    "\n",
    "console.log(checkIfAllBoolean(array1));\n",
    "console.log(checkIfAllBoolean(array2));"
   ]
  },
  {
   "cell_type": "markdown",
   "metadata": {},
   "source": [
    "# morning challenge\n",
    "Write a function that takes in an array of integers and returns an object with keys minimum, maximum, average with correct values.\n",
    "\n",
    "Example input: getAverages([[1, 2, 3, 4, 5]])\n",
    "Example output: {max: 5, min:1, avg: 3}"
   ]
  },
  {
   "cell_type": "code",
   "execution_count": 7,
   "metadata": {},
   "outputs": [
    {
     "name": "stdout",
     "output_type": "stream",
     "text": [
      "{ max: 5, min: 1, avg: 3 }\n"
     ]
    }
   ],
   "source": [
    "function getAverages(array) {\n",
    "  const result = {};\n",
    "  result.max = Math.max(...array);\n",
    "  result.min = Math.min(...array);\n",
    "  let nNumbers = 0;\n",
    "  let sum = 0;\n",
    "  for (let i=0; i < array.length; i++) {\n",
    "    nNumbers +=1;\n",
    "    sum += array[i];\n",
    "  }\n",
    "  result.avg = sum / nNumbers;\n",
    "  return result\n",
    "}\n",
    "\n",
    "console.log(getAverages([1, 2, 3, 4, 5]))"
   ]
  },
  {
   "cell_type": "code",
   "execution_count": 8,
   "metadata": {},
   "outputs": [
    {
     "name": "stdout",
     "output_type": "stream",
     "text": [
      "{ max: 5, min: 1, avg: 3 }\n"
     ]
    }
   ],
   "source": [
    "function getAverages(arr) {\n",
    "  let sum = arr.reduce((sum, num) => sum + num);\n",
    "  const averages = {\n",
    "    max: Math.max(...arr),\n",
    "    min: Math.min(...arr),\n",
    "    avg: sum / arr.length\n",
    "  }\n",
    "  return averages\n",
    "}\n",
    "console.log(getAverages([1, 2, 3, 4, 5]))"
   ]
  },
  {
   "cell_type": "code",
   "execution_count": 14,
   "metadata": {},
   "outputs": [
    {
     "name": "stdout",
     "output_type": "stream",
     "text": [
      "{ max: 5, min: 1, avg: 3 }\n"
     ]
    }
   ],
   "source": [
    "function getAverages(array) {\n",
    "  const result = {};\n",
    "  result.max = Math.max(...array);\n",
    "  result.min = Math.min(...array);\n",
    "  let sum = 0;\n",
    "  array.forEach(num => {\n",
    "    sum += num;\n",
    "  })\n",
    "  result.avg = sum / array.length;\n",
    "  return result\n",
    "}\n",
    "\n",
    "console.log(getAverages([1, 2, 3, 4, 5]))"
   ]
  },
  {
   "cell_type": "code",
   "execution_count": null,
   "metadata": {},
   "outputs": [],
   "source": []
  },
  {
   "cell_type": "code",
   "execution_count": null,
   "metadata": {},
   "outputs": [],
   "source": []
  },
  {
   "cell_type": "code",
   "execution_count": null,
   "metadata": {},
   "outputs": [],
   "source": []
  },
  {
   "cell_type": "code",
   "execution_count": null,
   "metadata": {},
   "outputs": [],
   "source": []
  },
  {
   "cell_type": "code",
   "execution_count": null,
   "metadata": {},
   "outputs": [],
   "source": []
  },
  {
   "cell_type": "code",
   "execution_count": null,
   "metadata": {},
   "outputs": [],
   "source": []
  },
  {
   "cell_type": "code",
   "execution_count": null,
   "metadata": {},
   "outputs": [],
   "source": []
  },
  {
   "cell_type": "code",
   "execution_count": null,
   "metadata": {},
   "outputs": [],
   "source": []
  },
  {
   "cell_type": "code",
   "execution_count": null,
   "metadata": {},
   "outputs": [],
   "source": []
  },
  {
   "cell_type": "code",
   "execution_count": null,
   "metadata": {},
   "outputs": [],
   "source": []
  },
  {
   "cell_type": "code",
   "execution_count": null,
   "metadata": {},
   "outputs": [],
   "source": []
  },
  {
   "cell_type": "code",
   "execution_count": null,
   "metadata": {},
   "outputs": [],
   "source": []
  },
  {
   "cell_type": "code",
   "execution_count": null,
   "metadata": {},
   "outputs": [],
   "source": []
  },
  {
   "attachments": {},
   "cell_type": "markdown",
   "metadata": {},
   "source": [
    "# *End of Page*"
   ]
  }
 ],
 "metadata": {
  "kernelspec": {
   "display_name": "JavaScript (Node.js)",
   "language": "javascript",
   "name": "javascript"
  },
  "language_info": {
   "file_extension": ".js",
   "mimetype": "application/javascript",
   "name": "javascript",
   "version": "17.9.1"
  },
  "orig_nbformat": 4,
  "vscode": {
   "interpreter": {
    "hash": "11938c6bc6919ae2720b4d5011047913343b08a43b18698fd82dedb0d4417594"
   }
  }
 },
 "nbformat": 4,
 "nbformat_minor": 2
}
