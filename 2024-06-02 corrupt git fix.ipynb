{
 "cells": [
  {
   "attachments": {},
   "cell_type": "markdown",
   "metadata": {},
   "source": [
    "1. Run `git git fsck`\n",
    "2. Copy and paste the output to create `input_string`\n",
    "3. Run the resulting script.\n",
    "4. Run `git pull` and sync."
   ]
  },
  {
   "cell_type": "code",
   "execution_count": 1,
   "metadata": {},
   "outputs": [
    {
     "name": "stdout",
     "output_type": "stream",
     "text": [
      "rm -rf .git/objects/10/6425cfa5947b814ba6b9412b7ad84496bd38bf .git/objects/10/6425cfa5947b814ba6b9412b7ad84496bd38bf .git/objects/10/6425cfa5947b814ba6b9412b7ad84496bd38bf .git/objects/31/aa45b7a023a20cf9831c1e86aed031eff90c05 .git/objects/31/aa45b7a023a20cf9831c1e86aed031eff90c05 .git/objects/31/aa45b7a023a20cf9831c1e86aed031eff90c05 .git/objects/73/5eb0f1929dcd9dceab1fdd24c63452e20329d8 .git/objects/73/5eb0f1929dcd9dceab1fdd24c63452e20329d8 .git/objects/73/5eb0f1929dcd9dceab1fdd24c63452e20329d8 .git/objects/7f/66fc1fcf3991a1e0618312041b76e98b286bb1 .git/objects/7f/66fc1fcf3991a1e0618312041b76e98b286bb1 .git/objects/7f/66fc1fcf3991a1e0618312041b76e98b286bb1 .git/objects/8e/bf470bdd5441e225a9f6d16934b6c2c4c955f3 .git/objects/8e/bf470bdd5441e225a9f6d16934b6c2c4c955f3 .git/objects/8e/bf470bdd5441e225a9f6d16934b6c2c4c955f3 .git/objects/96/9e7c60e592f8d1cdb8e5fe84489789c2e0df44 .git/objects/96/9e7c60e592f8d1cdb8e5fe84489789c2e0df44 .git/objects/96/9e7c60e592f8d1cdb8e5fe84489789c2e0df44 .git/objects/ce/48a0c2c2a822c2520bd842be2aeac369e050d0 .git/objects/ce/48a0c2c2a822c2520bd842be2aeac369e050d0 .git/objects/ce/48a0c2c2a822c2520bd842be2aeac369e050d0 .git/objects/fc/ad2ac20ed524615e1d432a9b234cbce6bd4da1 .git/objects/fc/ad2ac20ed524615e1d432a9b234cbce6bd4da1 .git/objects/fc/ad2ac20ed524615e1d432a9b234cbce6bd4da1 .git/objects/8e/bf470bdd5441e225a9f6d16934b6c2c4c955f3 .git/objects/8e/bf470bdd5441e225a9f6d16934b6c2c4c955f3 .git/objects/8e/bf470bdd5441e225a9f6d16934b6c2c4c955f3\n"
     ]
    }
   ],
   "source": [
    "import re\n",
    "\n",
    "def extract_git_object_paths(input_string):\n",
    "    # Define a regex pattern to match the desired file paths\n",
    "    pattern = r\"\\.git/objects/[0-9a-f]{2}/[0-9a-f]{38}\"\n",
    "    \n",
    "    # Find all matches in the input string\n",
    "    matches = re.findall(pattern, input_string)\n",
    "    \n",
    "    # Return the list of matched paths\n",
    "    return matches\n",
    "\n",
    "def create_git_object_deletion_script(input_string):\n",
    "\n",
    "    git_object_paths = extract_git_object_paths(input_string)\n",
    "    # Create the git object deletion script\n",
    "    git_object_deletion_script = \"rm -rf \" + \" \".join(git_object_paths)\n",
    "    \n",
    "    # Return the git object deletion script\n",
    "    return git_object_deletion_script\n",
    "\n",
    "input_string = \"\"\"\n",
    "error: object file .git/objects/10/6425cfa5947b814ba6b9412b7ad84496bd38bf is empty\n",
    "error: unable to mmap .git/objects/10/6425cfa5947b814ba6b9412b7ad84496bd38bf: No such file or directory\n",
    "error: 106425cfa5947b814ba6b9412b7ad84496bd38bf: object corrupt or missing: .git/objects/10/6425cfa5947b814ba6b9412b7ad84496bd38bf\n",
    "error: object file .git/objects/31/aa45b7a023a20cf9831c1e86aed031eff90c05 is empty\n",
    "error: unable to mmap .git/objects/31/aa45b7a023a20cf9831c1e86aed031eff90c05: No such file or directory\n",
    "error: 31aa45b7a023a20cf9831c1e86aed031eff90c05: object corrupt or missing: .git/objects/31/aa45b7a023a20cf9831c1e86aed031eff90c05\n",
    "error: object file .git/objects/73/5eb0f1929dcd9dceab1fdd24c63452e20329d8 is empty\n",
    "error: unable to mmap .git/objects/73/5eb0f1929dcd9dceab1fdd24c63452e20329d8: No such file or directory\n",
    "error: 735eb0f1929dcd9dceab1fdd24c63452e20329d8: object corrupt or missing: .git/objects/73/5eb0f1929dcd9dceab1fdd24c63452e20329d8\n",
    "error: object file .git/objects/7f/66fc1fcf3991a1e0618312041b76e98b286bb1 is empty\n",
    "error: unable to mmap .git/objects/7f/66fc1fcf3991a1e0618312041b76e98b286bb1: No such file or directory\n",
    "error: 7f66fc1fcf3991a1e0618312041b76e98b286bb1: object corrupt or missing: .git/objects/7f/66fc1fcf3991a1e0618312041b76e98b286bb1\n",
    "error: object file .git/objects/8e/bf470bdd5441e225a9f6d16934b6c2c4c955f3 is empty\n",
    "error: unable to mmap .git/objects/8e/bf470bdd5441e225a9f6d16934b6c2c4c955f3: No such file or directory\n",
    "error: 8ebf470bdd5441e225a9f6d16934b6c2c4c955f3: object corrupt or missing: .git/objects/8e/bf470bdd5441e225a9f6d16934b6c2c4c955f3\n",
    "error: object file .git/objects/96/9e7c60e592f8d1cdb8e5fe84489789c2e0df44 is empty\n",
    "error: unable to mmap .git/objects/96/9e7c60e592f8d1cdb8e5fe84489789c2e0df44: No such file or directory\n",
    "error: 969e7c60e592f8d1cdb8e5fe84489789c2e0df44: object corrupt or missing: .git/objects/96/9e7c60e592f8d1cdb8e5fe84489789c2e0df44\n",
    "error: object file .git/objects/ce/48a0c2c2a822c2520bd842be2aeac369e050d0 is empty\n",
    "error: unable to mmap .git/objects/ce/48a0c2c2a822c2520bd842be2aeac369e050d0: No such file or directory\n",
    "error: ce48a0c2c2a822c2520bd842be2aeac369e050d0: object corrupt or missing: .git/objects/ce/48a0c2c2a822c2520bd842be2aeac369e050d0\n",
    "error: object file .git/objects/fc/ad2ac20ed524615e1d432a9b234cbce6bd4da1 is empty\n",
    "error: unable to mmap .git/objects/fc/ad2ac20ed524615e1d432a9b234cbce6bd4da1: No such file or directory\n",
    "error: fcad2ac20ed524615e1d432a9b234cbce6bd4da1: object corrupt or missing: .git/objects/fc/ad2ac20ed524615e1d432a9b234cbce6bd4da1\n",
    "Checking object directories: 100% (256/256), done.\n",
    "Checking objects: 100% (138/138), done.\n",
    "error: object file .git/objects/8e/bf470bdd5441e225a9f6d16934b6c2c4c955f3 is empty\n",
    "error: object file .git/objects/8e/bf470bdd5441e225a9f6d16934b6c2c4c955f3 is empty\n",
    "fatal: loose object 8ebf470bdd5441e225a9f6d16934b6c2c4c955f3 (stored in .git/objects/8e/bf470bdd5441e225a9f6d16934b6c2c4c955f3) is corrupt\n",
    "\"\"\"\n",
    "\n",
    "\n",
    "print(create_git_object_deletion_script(input_string))"
   ]
  },
  {
   "cell_type": "code",
   "execution_count": 3,
   "metadata": {},
   "outputs": [
    {
     "data": {
      "text/plain": [
       "True"
      ]
     },
     "execution_count": 3,
     "metadata": {},
     "output_type": "execute_result"
    }
   ],
   "source": [
    "'.git/objects/09/989d04bfbf7d1094373cceff8de967a582f03c' == '.git/objects/09/989d04bfbf7d1094373cceff8de967a582f03c'\n"
   ]
  },
  {
   "cell_type": "code",
   "execution_count": null,
   "metadata": {
    "vscode": {
     "languageId": "javascript"
    }
   },
   "outputs": [],
   "source": []
  },
  {
   "cell_type": "code",
   "execution_count": null,
   "metadata": {
    "vscode": {
     "languageId": "javascript"
    }
   },
   "outputs": [],
   "source": []
  },
  {
   "cell_type": "code",
   "execution_count": null,
   "metadata": {
    "vscode": {
     "languageId": "javascript"
    }
   },
   "outputs": [],
   "source": []
  },
  {
   "cell_type": "code",
   "execution_count": null,
   "metadata": {
    "vscode": {
     "languageId": "javascript"
    }
   },
   "outputs": [],
   "source": []
  },
  {
   "cell_type": "code",
   "execution_count": null,
   "metadata": {
    "vscode": {
     "languageId": "javascript"
    }
   },
   "outputs": [],
   "source": []
  },
  {
   "cell_type": "code",
   "execution_count": null,
   "metadata": {
    "vscode": {
     "languageId": "javascript"
    }
   },
   "outputs": [],
   "source": []
  },
  {
   "cell_type": "code",
   "execution_count": null,
   "metadata": {
    "vscode": {
     "languageId": "javascript"
    }
   },
   "outputs": [],
   "source": []
  },
  {
   "cell_type": "code",
   "execution_count": null,
   "metadata": {
    "vscode": {
     "languageId": "javascript"
    }
   },
   "outputs": [],
   "source": []
  },
  {
   "cell_type": "code",
   "execution_count": null,
   "metadata": {
    "vscode": {
     "languageId": "javascript"
    }
   },
   "outputs": [],
   "source": []
  },
  {
   "cell_type": "code",
   "execution_count": null,
   "metadata": {
    "vscode": {
     "languageId": "javascript"
    }
   },
   "outputs": [],
   "source": []
  },
  {
   "cell_type": "code",
   "execution_count": null,
   "metadata": {
    "vscode": {
     "languageId": "javascript"
    }
   },
   "outputs": [],
   "source": []
  },
  {
   "cell_type": "code",
   "execution_count": null,
   "metadata": {
    "vscode": {
     "languageId": "javascript"
    }
   },
   "outputs": [],
   "source": []
  },
  {
   "cell_type": "code",
   "execution_count": null,
   "metadata": {
    "vscode": {
     "languageId": "javascript"
    }
   },
   "outputs": [],
   "source": []
  },
  {
   "cell_type": "code",
   "execution_count": null,
   "metadata": {
    "vscode": {
     "languageId": "javascript"
    }
   },
   "outputs": [],
   "source": []
  },
  {
   "cell_type": "code",
   "execution_count": null,
   "metadata": {
    "vscode": {
     "languageId": "javascript"
    }
   },
   "outputs": [],
   "source": []
  },
  {
   "cell_type": "code",
   "execution_count": null,
   "metadata": {
    "vscode": {
     "languageId": "javascript"
    }
   },
   "outputs": [],
   "source": []
  },
  {
   "cell_type": "code",
   "execution_count": null,
   "metadata": {
    "vscode": {
     "languageId": "javascript"
    }
   },
   "outputs": [],
   "source": []
  },
  {
   "cell_type": "code",
   "execution_count": null,
   "metadata": {
    "vscode": {
     "languageId": "javascript"
    }
   },
   "outputs": [],
   "source": []
  },
  {
   "cell_type": "code",
   "execution_count": null,
   "metadata": {
    "vscode": {
     "languageId": "javascript"
    }
   },
   "outputs": [],
   "source": []
  },
  {
   "attachments": {},
   "cell_type": "markdown",
   "metadata": {},
   "source": [
    "# *End of Page*"
   ]
  }
 ],
 "metadata": {
  "kernelspec": {
   "display_name": "Python 3",
   "language": "python",
   "name": "python3"
  },
  "language_info": {
   "codemirror_mode": {
    "name": "ipython",
    "version": 3
   },
   "file_extension": ".py",
   "mimetype": "text/x-python",
   "name": "python",
   "nbconvert_exporter": "python",
   "pygments_lexer": "ipython3",
   "version": "3.10.12"
  },
  "orig_nbformat": 4
 },
 "nbformat": 4,
 "nbformat_minor": 2
}
